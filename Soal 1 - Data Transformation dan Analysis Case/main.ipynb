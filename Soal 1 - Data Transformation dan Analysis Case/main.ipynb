{
 "cells": [
  {
   "cell_type": "markdown",
   "source": [
    "# Access the Data"
   ],
   "metadata": {
    "collapsed": false
   },
   "id": "53a8b5c312b5d2d2"
  },
  {
   "cell_type": "code",
   "execution_count": 18,
   "id": "initial_id",
   "metadata": {
    "collapsed": true,
    "ExecuteTime": {
     "end_time": "2024-03-01T01:59:32.256353Z",
     "start_time": "2024-03-01T01:59:32.238524Z"
    }
   },
   "outputs": [],
   "source": [
    "import os\n",
    "import pandas as pd\n",
    "\n",
    "# Get parent directory\n",
    "parent_directory = os.path.dirname(os.getcwd())\n",
    "# Join the parent directory with path where the data resides\n",
    "ECOMMERCE_SESSION_DATA_PATH = os.path.join(parent_directory, \"Soal 1 - Data Transformation dan Analysis Case\")\n",
    "\n",
    "# Create a function to load the data\n",
    "def load_ecommerce_session_data(ecommerce_session_data_path=ECOMMERCE_SESSION_DATA_PATH) -> pd.DataFrame:\n",
    "    # The path of the data\n",
    "    csv_path = os.path.join(ecommerce_session_data_path, \"ecommerce-session-bigquery.csv\")\n",
    "    return pd.read_csv(csv_path)"
   ]
  },
  {
   "cell_type": "markdown",
   "source": [
    "# Take a Quick Look at the Data Structure"
   ],
   "metadata": {
    "collapsed": false
   },
   "id": "b75110f877f1ded0"
  },
  {
   "cell_type": "code",
   "outputs": [],
   "source": [
    "df = load_ecommerce_session_data()"
   ],
   "metadata": {
    "collapsed": false,
    "ExecuteTime": {
     "end_time": "2024-03-01T01:59:32.379197Z",
     "start_time": "2024-03-01T01:59:32.299924Z"
    }
   },
   "id": "a946c38a0ec1a655",
   "execution_count": 19
  },
  {
   "cell_type": "code",
   "outputs": [
    {
     "data": {
      "text/plain": "         fullVisitorId channelGrouping     time        country  \\\n0  2515546493837534633  Organic Search   966564         Taiwan   \n1  9361741997835388618  Organic Search   157377         France   \n2  7313828956068851679        Referral   228279  United States   \n3  6036794406403793540  Organic Search  1615618  United States   \n4  7847280609739507227  Organic Search    37832         Canada   \n\n                            city  totalTransactionRevenue  transactions  \\\n0                      (not set)                      NaN           NaN   \n1  not available in demo dataset                      NaN           NaN   \n2                  San Francisco                      NaN           NaN   \n3                        Boulder                      NaN           NaN   \n4  not available in demo dataset                      NaN           NaN   \n\n   timeOnSite  pageviews  sessionQualityDim  ...  itemQuantity  itemRevenue  \\\n0      1567.0       82.0               17.0  ...           NaN          NaN   \n1       321.0        8.0                NaN  ...           NaN          NaN   \n2       927.0       11.0               63.0  ...           NaN          NaN   \n3      1616.0       13.0               38.0  ...           NaN          NaN   \n4      1222.0       45.0               53.0  ...           NaN          NaN   \n\n  transactionRevenue  transactionId  pageTitle  searchKeyword  \\\n0                NaN            NaN        NaN            NaN   \n1                NaN            NaN        NaN            NaN   \n2                NaN            NaN        NaN            NaN   \n3                NaN            NaN        NaN            NaN   \n4                NaN            NaN        NaN            NaN   \n\n    pagePathLevel1 eCommerceAction_type eCommerceAction_step  \\\n0  /storeitem.html                    0                    1   \n1  /storeitem.html                    0                    1   \n2  /storeitem.html                    0                    1   \n3  /storeitem.html                    0                    1   \n4  /storeitem.html                    0                    1   \n\n  eCommerceAction_option  \n0                    NaN  \n1                    NaN  \n2                    NaN  \n3                    NaN  \n4                    NaN  \n\n[5 rows x 32 columns]",
      "text/html": "<div>\n<style scoped>\n    .dataframe tbody tr th:only-of-type {\n        vertical-align: middle;\n    }\n\n    .dataframe tbody tr th {\n        vertical-align: top;\n    }\n\n    .dataframe thead th {\n        text-align: right;\n    }\n</style>\n<table border=\"1\" class=\"dataframe\">\n  <thead>\n    <tr style=\"text-align: right;\">\n      <th></th>\n      <th>fullVisitorId</th>\n      <th>channelGrouping</th>\n      <th>time</th>\n      <th>country</th>\n      <th>city</th>\n      <th>totalTransactionRevenue</th>\n      <th>transactions</th>\n      <th>timeOnSite</th>\n      <th>pageviews</th>\n      <th>sessionQualityDim</th>\n      <th>...</th>\n      <th>itemQuantity</th>\n      <th>itemRevenue</th>\n      <th>transactionRevenue</th>\n      <th>transactionId</th>\n      <th>pageTitle</th>\n      <th>searchKeyword</th>\n      <th>pagePathLevel1</th>\n      <th>eCommerceAction_type</th>\n      <th>eCommerceAction_step</th>\n      <th>eCommerceAction_option</th>\n    </tr>\n  </thead>\n  <tbody>\n    <tr>\n      <th>0</th>\n      <td>2515546493837534633</td>\n      <td>Organic Search</td>\n      <td>966564</td>\n      <td>Taiwan</td>\n      <td>(not set)</td>\n      <td>NaN</td>\n      <td>NaN</td>\n      <td>1567.0</td>\n      <td>82.0</td>\n      <td>17.0</td>\n      <td>...</td>\n      <td>NaN</td>\n      <td>NaN</td>\n      <td>NaN</td>\n      <td>NaN</td>\n      <td>NaN</td>\n      <td>NaN</td>\n      <td>/storeitem.html</td>\n      <td>0</td>\n      <td>1</td>\n      <td>NaN</td>\n    </tr>\n    <tr>\n      <th>1</th>\n      <td>9361741997835388618</td>\n      <td>Organic Search</td>\n      <td>157377</td>\n      <td>France</td>\n      <td>not available in demo dataset</td>\n      <td>NaN</td>\n      <td>NaN</td>\n      <td>321.0</td>\n      <td>8.0</td>\n      <td>NaN</td>\n      <td>...</td>\n      <td>NaN</td>\n      <td>NaN</td>\n      <td>NaN</td>\n      <td>NaN</td>\n      <td>NaN</td>\n      <td>NaN</td>\n      <td>/storeitem.html</td>\n      <td>0</td>\n      <td>1</td>\n      <td>NaN</td>\n    </tr>\n    <tr>\n      <th>2</th>\n      <td>7313828956068851679</td>\n      <td>Referral</td>\n      <td>228279</td>\n      <td>United States</td>\n      <td>San Francisco</td>\n      <td>NaN</td>\n      <td>NaN</td>\n      <td>927.0</td>\n      <td>11.0</td>\n      <td>63.0</td>\n      <td>...</td>\n      <td>NaN</td>\n      <td>NaN</td>\n      <td>NaN</td>\n      <td>NaN</td>\n      <td>NaN</td>\n      <td>NaN</td>\n      <td>/storeitem.html</td>\n      <td>0</td>\n      <td>1</td>\n      <td>NaN</td>\n    </tr>\n    <tr>\n      <th>3</th>\n      <td>6036794406403793540</td>\n      <td>Organic Search</td>\n      <td>1615618</td>\n      <td>United States</td>\n      <td>Boulder</td>\n      <td>NaN</td>\n      <td>NaN</td>\n      <td>1616.0</td>\n      <td>13.0</td>\n      <td>38.0</td>\n      <td>...</td>\n      <td>NaN</td>\n      <td>NaN</td>\n      <td>NaN</td>\n      <td>NaN</td>\n      <td>NaN</td>\n      <td>NaN</td>\n      <td>/storeitem.html</td>\n      <td>0</td>\n      <td>1</td>\n      <td>NaN</td>\n    </tr>\n    <tr>\n      <th>4</th>\n      <td>7847280609739507227</td>\n      <td>Organic Search</td>\n      <td>37832</td>\n      <td>Canada</td>\n      <td>not available in demo dataset</td>\n      <td>NaN</td>\n      <td>NaN</td>\n      <td>1222.0</td>\n      <td>45.0</td>\n      <td>53.0</td>\n      <td>...</td>\n      <td>NaN</td>\n      <td>NaN</td>\n      <td>NaN</td>\n      <td>NaN</td>\n      <td>NaN</td>\n      <td>NaN</td>\n      <td>/storeitem.html</td>\n      <td>0</td>\n      <td>1</td>\n      <td>NaN</td>\n    </tr>\n  </tbody>\n</table>\n<p>5 rows × 32 columns</p>\n</div>"
     },
     "execution_count": 20,
     "metadata": {},
     "output_type": "execute_result"
    }
   ],
   "source": [
    "# Load the first five occurrents of the data\n",
    "df.head()"
   ],
   "metadata": {
    "collapsed": false,
    "ExecuteTime": {
     "end_time": "2024-03-01T01:59:32.409976Z",
     "start_time": "2024-03-01T01:59:32.383284Z"
    }
   },
   "id": "414681f6c59543a5",
   "execution_count": 20
  },
  {
   "cell_type": "code",
   "outputs": [
    {
     "name": "stdout",
     "output_type": "stream",
     "text": [
      "<class 'pandas.core.frame.DataFrame'>\n",
      "RangeIndex: 10000 entries, 0 to 9999\n",
      "Data columns (total 32 columns):\n",
      " #   Column                   Non-Null Count  Dtype  \n",
      "---  ------                   --------------  -----  \n",
      " 0   fullVisitorId            10000 non-null  uint64 \n",
      " 1   channelGrouping          10000 non-null  object \n",
      " 2   time                     10000 non-null  int64  \n",
      " 3   country                  10000 non-null  object \n",
      " 4   city                     10000 non-null  object \n",
      " 5   totalTransactionRevenue  619 non-null    float64\n",
      " 6   transactions             628 non-null    float64\n",
      " 7   timeOnSite               9713 non-null   float64\n",
      " 8   pageviews                9999 non-null   float64\n",
      " 9   sessionQualityDim        19 non-null     float64\n",
      " 10  date                     10000 non-null  int64  \n",
      " 11  visitId                  10000 non-null  int64  \n",
      " 12  type                     10000 non-null  object \n",
      " 13  productRefundAmount      0 non-null      float64\n",
      " 14  productQuantity          45 non-null     float64\n",
      " 15  productPrice             10000 non-null  int64  \n",
      " 16  productRevenue           0 non-null      float64\n",
      " 17  productSKU               10000 non-null  object \n",
      " 18  v2ProductName            10000 non-null  object \n",
      " 19  v2ProductCategory        10000 non-null  object \n",
      " 20  productVariant           10000 non-null  object \n",
      " 21  currencyCode             9614 non-null   object \n",
      " 22  itemQuantity             0 non-null      float64\n",
      " 23  itemRevenue              0 non-null      float64\n",
      " 24  transactionRevenue       0 non-null      float64\n",
      " 25  transactionId            0 non-null      float64\n",
      " 26  pageTitle                9908 non-null   object \n",
      " 27  searchKeyword            0 non-null      float64\n",
      " 28  pagePathLevel1           10000 non-null  object \n",
      " 29  eCommerceAction_type     10000 non-null  int64  \n",
      " 30  eCommerceAction_step     10000 non-null  int64  \n",
      " 31  eCommerceAction_option   0 non-null      float64\n",
      "dtypes: float64(14), int64(6), object(11), uint64(1)\n",
      "memory usage: 2.4+ MB\n"
     ]
    }
   ],
   "source": [
    "# Get general information of the data\n",
    "df.info()"
   ],
   "metadata": {
    "collapsed": false,
    "ExecuteTime": {
     "end_time": "2024-03-01T01:59:32.441107Z",
     "start_time": "2024-03-01T01:59:32.416644Z"
    }
   },
   "id": "def1e8a5e29261c7",
   "execution_count": 21
  },
  {
   "cell_type": "code",
   "outputs": [
    {
     "data": {
      "text/plain": "       fullVisitorId          time  totalTransactionRevenue  transactions  \\\ncount   1.000000e+04  1.000000e+04             6.190000e+02    628.000000   \nmean    4.538050e+18  3.248462e+05             2.103635e+08      1.050955   \nstd     3.038982e+18  5.647221e+05             5.656026e+08      0.289005   \nmin     1.664653e+14  0.000000e+00             3.530000e+06      1.000000   \n25%     1.701094e+18  4.252400e+04             5.508000e+07      1.000000   \n50%     4.449181e+18  1.357180e+05             9.542000e+07      1.000000   \n75%     7.170959e+18  3.542545e+05             1.866600e+08      1.000000   \nmax     9.994767e+18  1.089403e+07             6.831960e+09      6.000000   \n\n         timeOnSite    pageviews  sessionQualityDim          date  \\\ncount   9713.000000  9999.000000          19.000000  1.000000e+04   \nmean     720.119222    22.142114          50.210526  2.016097e+07   \nstd      967.997653    26.631372          32.481754  9.067598e+02   \nmin        1.000000     1.000000           1.000000  2.016080e+07   \n25%      164.000000     7.000000          19.500000  2.016082e+07   \n50%      383.000000    14.000000          62.000000  2.016090e+07   \n75%      898.000000    27.000000          79.000000  2.016092e+07   \nmax    15020.000000   429.000000          92.000000  2.017080e+07   \n\n            visitId  productRefundAmount  ...  productPrice  productRevenue  \\\ncount  1.000000e+04                  0.0  ...  1.000000e+04             0.0   \nmean   1.473169e+09                  NaN  ...  1.585565e+07             NaN   \nstd    2.518655e+06                  NaN  ...  2.095339e+07             NaN   \nmin    1.470036e+09                  NaN  ...  0.000000e+00             NaN   \n25%    1.471555e+09                  NaN  ...  4.990000e+06             NaN   \n50%    1.473019e+09                  NaN  ...  9.990000e+06             NaN   \n75%    1.474471e+09                  NaN  ...  1.599000e+07             NaN   \nmax    1.501622e+09                  NaN  ...  9.999000e+07             NaN   \n\n       itemQuantity  itemRevenue  transactionRevenue  transactionId  \\\ncount           0.0          0.0                 0.0            0.0   \nmean            NaN          NaN                 NaN            NaN   \nstd             NaN          NaN                 NaN            NaN   \nmin             NaN          NaN                 NaN            NaN   \n25%             NaN          NaN                 NaN            NaN   \n50%             NaN          NaN                 NaN            NaN   \n75%             NaN          NaN                 NaN            NaN   \nmax             NaN          NaN                 NaN            NaN   \n\n       searchKeyword  eCommerceAction_type  eCommerceAction_step  \\\ncount            0.0          10000.000000               10000.0   \nmean             NaN              0.071500                   1.0   \nstd              NaN              0.363595                   0.0   \nmin              NaN              0.000000                   1.0   \n25%              NaN              0.000000                   1.0   \n50%              NaN              0.000000                   1.0   \n75%              NaN              0.000000                   1.0   \nmax              NaN              3.000000                   1.0   \n\n       eCommerceAction_option  \ncount                     0.0  \nmean                      NaN  \nstd                       NaN  \nmin                       NaN  \n25%                       NaN  \n50%                       NaN  \n75%                       NaN  \nmax                       NaN  \n\n[8 rows x 21 columns]",
      "text/html": "<div>\n<style scoped>\n    .dataframe tbody tr th:only-of-type {\n        vertical-align: middle;\n    }\n\n    .dataframe tbody tr th {\n        vertical-align: top;\n    }\n\n    .dataframe thead th {\n        text-align: right;\n    }\n</style>\n<table border=\"1\" class=\"dataframe\">\n  <thead>\n    <tr style=\"text-align: right;\">\n      <th></th>\n      <th>fullVisitorId</th>\n      <th>time</th>\n      <th>totalTransactionRevenue</th>\n      <th>transactions</th>\n      <th>timeOnSite</th>\n      <th>pageviews</th>\n      <th>sessionQualityDim</th>\n      <th>date</th>\n      <th>visitId</th>\n      <th>productRefundAmount</th>\n      <th>...</th>\n      <th>productPrice</th>\n      <th>productRevenue</th>\n      <th>itemQuantity</th>\n      <th>itemRevenue</th>\n      <th>transactionRevenue</th>\n      <th>transactionId</th>\n      <th>searchKeyword</th>\n      <th>eCommerceAction_type</th>\n      <th>eCommerceAction_step</th>\n      <th>eCommerceAction_option</th>\n    </tr>\n  </thead>\n  <tbody>\n    <tr>\n      <th>count</th>\n      <td>1.000000e+04</td>\n      <td>1.000000e+04</td>\n      <td>6.190000e+02</td>\n      <td>628.000000</td>\n      <td>9713.000000</td>\n      <td>9999.000000</td>\n      <td>19.000000</td>\n      <td>1.000000e+04</td>\n      <td>1.000000e+04</td>\n      <td>0.0</td>\n      <td>...</td>\n      <td>1.000000e+04</td>\n      <td>0.0</td>\n      <td>0.0</td>\n      <td>0.0</td>\n      <td>0.0</td>\n      <td>0.0</td>\n      <td>0.0</td>\n      <td>10000.000000</td>\n      <td>10000.0</td>\n      <td>0.0</td>\n    </tr>\n    <tr>\n      <th>mean</th>\n      <td>4.538050e+18</td>\n      <td>3.248462e+05</td>\n      <td>2.103635e+08</td>\n      <td>1.050955</td>\n      <td>720.119222</td>\n      <td>22.142114</td>\n      <td>50.210526</td>\n      <td>2.016097e+07</td>\n      <td>1.473169e+09</td>\n      <td>NaN</td>\n      <td>...</td>\n      <td>1.585565e+07</td>\n      <td>NaN</td>\n      <td>NaN</td>\n      <td>NaN</td>\n      <td>NaN</td>\n      <td>NaN</td>\n      <td>NaN</td>\n      <td>0.071500</td>\n      <td>1.0</td>\n      <td>NaN</td>\n    </tr>\n    <tr>\n      <th>std</th>\n      <td>3.038982e+18</td>\n      <td>5.647221e+05</td>\n      <td>5.656026e+08</td>\n      <td>0.289005</td>\n      <td>967.997653</td>\n      <td>26.631372</td>\n      <td>32.481754</td>\n      <td>9.067598e+02</td>\n      <td>2.518655e+06</td>\n      <td>NaN</td>\n      <td>...</td>\n      <td>2.095339e+07</td>\n      <td>NaN</td>\n      <td>NaN</td>\n      <td>NaN</td>\n      <td>NaN</td>\n      <td>NaN</td>\n      <td>NaN</td>\n      <td>0.363595</td>\n      <td>0.0</td>\n      <td>NaN</td>\n    </tr>\n    <tr>\n      <th>min</th>\n      <td>1.664653e+14</td>\n      <td>0.000000e+00</td>\n      <td>3.530000e+06</td>\n      <td>1.000000</td>\n      <td>1.000000</td>\n      <td>1.000000</td>\n      <td>1.000000</td>\n      <td>2.016080e+07</td>\n      <td>1.470036e+09</td>\n      <td>NaN</td>\n      <td>...</td>\n      <td>0.000000e+00</td>\n      <td>NaN</td>\n      <td>NaN</td>\n      <td>NaN</td>\n      <td>NaN</td>\n      <td>NaN</td>\n      <td>NaN</td>\n      <td>0.000000</td>\n      <td>1.0</td>\n      <td>NaN</td>\n    </tr>\n    <tr>\n      <th>25%</th>\n      <td>1.701094e+18</td>\n      <td>4.252400e+04</td>\n      <td>5.508000e+07</td>\n      <td>1.000000</td>\n      <td>164.000000</td>\n      <td>7.000000</td>\n      <td>19.500000</td>\n      <td>2.016082e+07</td>\n      <td>1.471555e+09</td>\n      <td>NaN</td>\n      <td>...</td>\n      <td>4.990000e+06</td>\n      <td>NaN</td>\n      <td>NaN</td>\n      <td>NaN</td>\n      <td>NaN</td>\n      <td>NaN</td>\n      <td>NaN</td>\n      <td>0.000000</td>\n      <td>1.0</td>\n      <td>NaN</td>\n    </tr>\n    <tr>\n      <th>50%</th>\n      <td>4.449181e+18</td>\n      <td>1.357180e+05</td>\n      <td>9.542000e+07</td>\n      <td>1.000000</td>\n      <td>383.000000</td>\n      <td>14.000000</td>\n      <td>62.000000</td>\n      <td>2.016090e+07</td>\n      <td>1.473019e+09</td>\n      <td>NaN</td>\n      <td>...</td>\n      <td>9.990000e+06</td>\n      <td>NaN</td>\n      <td>NaN</td>\n      <td>NaN</td>\n      <td>NaN</td>\n      <td>NaN</td>\n      <td>NaN</td>\n      <td>0.000000</td>\n      <td>1.0</td>\n      <td>NaN</td>\n    </tr>\n    <tr>\n      <th>75%</th>\n      <td>7.170959e+18</td>\n      <td>3.542545e+05</td>\n      <td>1.866600e+08</td>\n      <td>1.000000</td>\n      <td>898.000000</td>\n      <td>27.000000</td>\n      <td>79.000000</td>\n      <td>2.016092e+07</td>\n      <td>1.474471e+09</td>\n      <td>NaN</td>\n      <td>...</td>\n      <td>1.599000e+07</td>\n      <td>NaN</td>\n      <td>NaN</td>\n      <td>NaN</td>\n      <td>NaN</td>\n      <td>NaN</td>\n      <td>NaN</td>\n      <td>0.000000</td>\n      <td>1.0</td>\n      <td>NaN</td>\n    </tr>\n    <tr>\n      <th>max</th>\n      <td>9.994767e+18</td>\n      <td>1.089403e+07</td>\n      <td>6.831960e+09</td>\n      <td>6.000000</td>\n      <td>15020.000000</td>\n      <td>429.000000</td>\n      <td>92.000000</td>\n      <td>2.017080e+07</td>\n      <td>1.501622e+09</td>\n      <td>NaN</td>\n      <td>...</td>\n      <td>9.999000e+07</td>\n      <td>NaN</td>\n      <td>NaN</td>\n      <td>NaN</td>\n      <td>NaN</td>\n      <td>NaN</td>\n      <td>NaN</td>\n      <td>3.000000</td>\n      <td>1.0</td>\n      <td>NaN</td>\n    </tr>\n  </tbody>\n</table>\n<p>8 rows × 21 columns</p>\n</div>"
     },
     "execution_count": 22,
     "metadata": {},
     "output_type": "execute_result"
    }
   ],
   "source": [
    "# Describe the data\n",
    "df.describe()"
   ],
   "metadata": {
    "collapsed": false,
    "ExecuteTime": {
     "end_time": "2024-03-01T01:59:32.533089Z",
     "start_time": "2024-03-01T01:59:32.450011Z"
    }
   },
   "id": "13c6376e4e0c3640",
   "execution_count": 22
  },
  {
   "cell_type": "markdown",
   "source": [
    "# Clean the Data"
   ],
   "metadata": {
    "collapsed": false
   },
   "id": "98a520bbef36266a"
  },
  {
   "cell_type": "code",
   "outputs": [],
   "source": [
    "# Handle missing values\n",
    "# Dropping columns with all missing values\n",
    "df.drop(['productRefundAmount', 'productRevenue',\n",
    "         'itemQuantity', 'itemRevenue', 'transactionRevenue', 'transactionId',\n",
    "         'searchKeyword', 'eCommerceAction_option'], axis=1, inplace=True)"
   ],
   "metadata": {
    "collapsed": false,
    "ExecuteTime": {
     "end_time": "2024-03-01T01:59:32.548400Z",
     "start_time": "2024-03-01T01:59:32.536425Z"
    }
   },
   "id": "e8fac70a6be0089a",
   "execution_count": 23
  },
  {
   "cell_type": "code",
   "outputs": [],
   "source": [
    "# Convert 'time' column to datetime\n",
    "df['time'] = pd.to_datetime(df['time'], unit='s')\n",
    "# Convert 'date' column to datetime\n",
    "df['date'] = pd.to_datetime(df['date'], format='%Y%m%d')"
   ],
   "metadata": {
    "collapsed": false,
    "ExecuteTime": {
     "end_time": "2024-03-01T01:59:32.580035Z",
     "start_time": "2024-03-01T01:59:32.552977Z"
    }
   },
   "id": "b476726911aa57c9",
   "execution_count": 24
  },
  {
   "cell_type": "code",
   "outputs": [],
   "source": [
    "# Convert categorical columns to categorical data types\n",
    "cat_cols = ['channelGrouping', 'country', 'city', 'type', 'productSKU', 'v2ProductName',\n",
    "            'v2ProductCategory', 'productVariant', 'currencyCode', 'pageTitle', 'pagePathLevel1']\n",
    "df[cat_cols] = df[cat_cols].astype('category')"
   ],
   "metadata": {
    "collapsed": false,
    "ExecuteTime": {
     "end_time": "2024-03-01T01:59:32.627953Z",
     "start_time": "2024-03-01T01:59:32.599397Z"
    }
   },
   "id": "31371d27f53d176d",
   "execution_count": 25
  },
  {
   "cell_type": "markdown",
   "source": [
    "# Case Studies"
   ],
   "metadata": {
    "collapsed": false
   },
   "id": "c90a13bd8d6fe017"
  },
  {
   "cell_type": "markdown",
   "source": [
    "#### Identify top products based on the total transaction revenue per day."
   ],
   "metadata": {
    "collapsed": false
   },
   "id": "f5c93f3841444fe9"
  },
  {
   "cell_type": "code",
   "outputs": [
    {
     "data": {
      "text/plain": "         date               v2ProductName  totalTransactionRevenue\n13 2016-08-01             Chevron Shopper              144790000.0\n61 2016-08-01  Latitudes Foldaway Shopper               66900000.0\n71 2016-08-01    Speed Zone Air Mesh Tote               66900000.0\n76 2016-08-01          Waterpoof Gear Bag               66900000.0\n0  2016-08-01         1 oz Hand Sanitizer                      0.0",
      "text/html": "<div>\n<style scoped>\n    .dataframe tbody tr th:only-of-type {\n        vertical-align: middle;\n    }\n\n    .dataframe tbody tr th {\n        vertical-align: top;\n    }\n\n    .dataframe thead th {\n        text-align: right;\n    }\n</style>\n<table border=\"1\" class=\"dataframe\">\n  <thead>\n    <tr style=\"text-align: right;\">\n      <th></th>\n      <th>date</th>\n      <th>v2ProductName</th>\n      <th>totalTransactionRevenue</th>\n    </tr>\n  </thead>\n  <tbody>\n    <tr>\n      <th>13</th>\n      <td>2016-08-01</td>\n      <td>Chevron Shopper</td>\n      <td>144790000.0</td>\n    </tr>\n    <tr>\n      <th>61</th>\n      <td>2016-08-01</td>\n      <td>Latitudes Foldaway Shopper</td>\n      <td>66900000.0</td>\n    </tr>\n    <tr>\n      <th>71</th>\n      <td>2016-08-01</td>\n      <td>Speed Zone Air Mesh Tote</td>\n      <td>66900000.0</td>\n    </tr>\n    <tr>\n      <th>76</th>\n      <td>2016-08-01</td>\n      <td>Waterpoof Gear Bag</td>\n      <td>66900000.0</td>\n    </tr>\n    <tr>\n      <th>0</th>\n      <td>2016-08-01</td>\n      <td>1 oz Hand Sanitizer</td>\n      <td>0.0</td>\n    </tr>\n  </tbody>\n</table>\n</div>"
     },
     "execution_count": 26,
     "metadata": {},
     "output_type": "execute_result"
    }
   ],
   "source": [
    "# Group by date and product, then calculate total transaction revenue\n",
    "product_revenue_per_day = df.groupby(['date', 'v2ProductName'])['totalTransactionRevenue'].sum().reset_index()\n",
    "\n",
    "# Find the top products based on total transaction revenue per day\n",
    "top_products_per_day = product_revenue_per_day.sort_values(by=['date', 'totalTransactionRevenue'], ascending=[True, False])\n",
    "\n",
    "# Display the top products per day\n",
    "top_products_per_day.head()"
   ],
   "metadata": {
    "collapsed": false,
    "ExecuteTime": {
     "end_time": "2024-03-01T01:59:32.768891Z",
     "start_time": "2024-03-01T01:59:32.736354Z"
    }
   },
   "id": "1d756bc8df7031d",
   "execution_count": 26
  },
  {
   "cell_type": "markdown",
   "source": [
    "I think what ChatGPT gave me does not properly answer the question, because what the question wants is the top product for each day. So here is my improvement: "
   ],
   "metadata": {
    "collapsed": false
   },
   "id": "e1a96b6a6eb33f9"
  },
  {
   "cell_type": "code",
   "outputs": [],
   "source": [
    "# Filter out rows where totalTransactionRevenue equals to 0\n",
    "df[df['totalTransactionRevenue'] == 0].dropna()\n",
    "\n",
    "# Find the top product for each day based on total transaction revenue\n",
    "top_products_per_day = product_revenue_per_day.loc[product_revenue_per_day.groupby('date')['totalTransactionRevenue'].idxmax()]"
   ],
   "metadata": {
    "collapsed": false,
    "ExecuteTime": {
     "end_time": "2024-03-01T01:59:32.878325Z",
     "start_time": "2024-03-01T01:59:32.848336Z"
    }
   },
   "id": "d5b073db7c5c7699",
   "execution_count": 27
  },
  {
   "cell_type": "code",
   "outputs": [
    {
     "data": {
      "text/plain": "          date        v2ProductName  totalTransactionRevenue\n13  2016-08-01      Chevron Shopper              144790000.0\n97  2016-08-02      Chevron Shopper              191200000.0\n168 2016-08-03  1 oz Hand Sanitizer                      0.0\n282 2016-08-04     Google Lunch Bag              113850000.0\n349 2016-08-05      Chevron Shopper              264780000.0",
      "text/html": "<div>\n<style scoped>\n    .dataframe tbody tr th:only-of-type {\n        vertical-align: middle;\n    }\n\n    .dataframe tbody tr th {\n        vertical-align: top;\n    }\n\n    .dataframe thead th {\n        text-align: right;\n    }\n</style>\n<table border=\"1\" class=\"dataframe\">\n  <thead>\n    <tr style=\"text-align: right;\">\n      <th></th>\n      <th>date</th>\n      <th>v2ProductName</th>\n      <th>totalTransactionRevenue</th>\n    </tr>\n  </thead>\n  <tbody>\n    <tr>\n      <th>13</th>\n      <td>2016-08-01</td>\n      <td>Chevron Shopper</td>\n      <td>144790000.0</td>\n    </tr>\n    <tr>\n      <th>97</th>\n      <td>2016-08-02</td>\n      <td>Chevron Shopper</td>\n      <td>191200000.0</td>\n    </tr>\n    <tr>\n      <th>168</th>\n      <td>2016-08-03</td>\n      <td>1 oz Hand Sanitizer</td>\n      <td>0.0</td>\n    </tr>\n    <tr>\n      <th>282</th>\n      <td>2016-08-04</td>\n      <td>Google Lunch Bag</td>\n      <td>113850000.0</td>\n    </tr>\n    <tr>\n      <th>349</th>\n      <td>2016-08-05</td>\n      <td>Chevron Shopper</td>\n      <td>264780000.0</td>\n    </tr>\n  </tbody>\n</table>\n</div>"
     },
     "execution_count": 28,
     "metadata": {},
     "output_type": "execute_result"
    }
   ],
   "source": [
    "top_products_per_day.head()"
   ],
   "metadata": {
    "collapsed": false,
    "ExecuteTime": {
     "end_time": "2024-03-01T01:59:32.939563Z",
     "start_time": "2024-03-01T01:59:32.918060Z"
    }
   },
   "id": "a7b3a1fa04a3e151",
   "execution_count": 28
  },
  {
   "cell_type": "markdown",
   "source": [
    "#### Identify the most profitable city or province based on the total transaction revenue.\n"
   ],
   "metadata": {
    "collapsed": false
   },
   "id": "9e8a19ce1fe42049"
  },
  {
   "cell_type": "code",
   "outputs": [
    {
     "data": {
      "text/plain": "city                       not available in demo dataset\ntotalTransactionRevenue                    65102440000.0\nName: 170, dtype: object"
     },
     "execution_count": 29,
     "metadata": {},
     "output_type": "execute_result"
    }
   ],
   "source": [
    "# Aggregate by city\n",
    "city_revenue = df.groupby('city')['totalTransactionRevenue'].sum().reset_index()\n",
    "most_profitable_city = city_revenue.loc[city_revenue['totalTransactionRevenue'].idxmax()]\n",
    "most_profitable_city.head()"
   ],
   "metadata": {
    "collapsed": false,
    "ExecuteTime": {
     "end_time": "2024-03-01T01:59:32.970349Z",
     "start_time": "2024-03-01T01:59:32.953926Z"
    }
   },
   "id": "a980fda776d40ff1",
   "execution_count": 29
  },
  {
   "cell_type": "markdown",
   "source": [
    "I have encountered an edge case where the most profitable city is \"not available in demo dataset\". Because I don't know what to replace, I will let it be."
   ],
   "metadata": {
    "collapsed": false
   },
   "id": "74e3c19aca7229e1"
  },
  {
   "cell_type": "code",
   "outputs": [
    {
     "data": {
      "text/plain": "country                     United States\ntotalTransactionRevenue    110441990000.0\nName: 101, dtype: object"
     },
     "execution_count": 30,
     "metadata": {},
     "output_type": "execute_result"
    }
   ],
   "source": [
    "# Aggregate by country\n",
    "country_revenue = df.groupby('country')['totalTransactionRevenue'].sum().reset_index()\n",
    "most_profitable_country = country_revenue.loc[country_revenue['totalTransactionRevenue'].idxmax()]\n",
    "most_profitable_country.head()"
   ],
   "metadata": {
    "collapsed": false,
    "ExecuteTime": {
     "end_time": "2024-03-01T01:59:33.048399Z",
     "start_time": "2024-03-01T01:59:33.018078Z"
    }
   },
   "id": "918b8f622b3cd115",
   "execution_count": 30
  },
  {
   "cell_type": "code",
   "outputs": [],
   "source": [],
   "metadata": {
    "collapsed": false,
    "ExecuteTime": {
     "end_time": "2024-03-01T01:59:33.125761Z",
     "start_time": "2024-03-01T01:59:33.120161Z"
    }
   },
   "id": "3f15236d73d98e80",
   "execution_count": 30
  }
 ],
 "metadata": {
  "kernelspec": {
   "display_name": "Python 3",
   "language": "python",
   "name": "python3"
  },
  "language_info": {
   "codemirror_mode": {
    "name": "ipython",
    "version": 2
   },
   "file_extension": ".py",
   "mimetype": "text/x-python",
   "name": "python",
   "nbconvert_exporter": "python",
   "pygments_lexer": "ipython2",
   "version": "2.7.6"
  }
 },
 "nbformat": 4,
 "nbformat_minor": 5
}
